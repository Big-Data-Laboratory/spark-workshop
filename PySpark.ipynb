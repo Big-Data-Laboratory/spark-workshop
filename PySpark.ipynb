{
 "metadata": {
  "name": "",
  "signature": "sha256:b91cebdbd3536f369df77ed4fe347d312645888b189f06b8135a16e90b55dc6d"
 },
 "nbformat": 3,
 "nbformat_minor": 0,
 "worksheets": [
  {
   "cells": [
    {
     "cell_type": "markdown",
     "metadata": {},
     "source": [
      "# PySpark Practicum\n",
      "\n",
      "**Note** Load this notebook with the `spark` profile (environment variable set and Spark context available via pyspark). For more information see [Getting Started with Spark (in Python)](https://districtdatalabs.silvrback.com/getting-started-with-spark-in-python). \n",
      "\n",
      "If you're following along in a pyspark interpreter, there is no need to load the spark context - it is automatically made available to you in the terminal. If you're writing a Spark application, however, you must load the context."
     ]
    },
    {
     "cell_type": "code",
     "collapsed": false,
     "input": [
      "from pyspark import  SparkContext\n",
      "sc = SparkContext( 'local', 'pyspark')"
     ],
     "language": "python",
     "metadata": {},
     "outputs": []
    },
    {
     "cell_type": "code",
     "collapsed": false,
     "input": [
      "print sc.master"
     ],
     "language": "python",
     "metadata": {},
     "outputs": []
    },
    {
     "cell_type": "markdown",
     "metadata": {},
     "source": [
      "The `isprime` function takes a number, `n` and computes if it is prime by ensuring that every odd number greater than 2 until the square root of `n` is not a divisor of `n`."
     ]
    },
    {
     "cell_type": "code",
     "collapsed": false,
     "input": [
      "def isprime(n):\n",
      "    \"\"\"\n",
      "    check if integer n is a prime\n",
      "    \"\"\"\n",
      "    # make sure n is a positive integer\n",
      "    n = abs(int(n))\n",
      "    # 0 and 1 are not primes\n",
      "    if n < 2:\n",
      "        return False\n",
      "    # 2 is the only even prime number\n",
      "    if n == 2:\n",
      "        return True\n",
      "    # all other even numbers are not primes\n",
      "    if not n & 1:\n",
      "        return False\n",
      "    # range starts with 3 and only needs to go up the square root of n\n",
      "    # for all odd numbers\n",
      "    for x in range(3, int(n**0.5)+1, 2):\n",
      "        if n % x == 0:\n",
      "            return False\n",
      "    return True"
     ],
     "language": "python",
     "metadata": {},
     "outputs": []
    },
    {
     "cell_type": "markdown",
     "metadata": {},
     "source": [
      "To create an RDD, parallelize a collection (in this case the numbers 0 to 1M) out to the cluster. You can then apply transformations on the RDD (`filter`) and use actions (`count`) to return the context back to the driver program."
     ]
    },
    {
     "cell_type": "code",
     "collapsed": false,
     "input": [
      "# Create an RDD of numbers from 0 to 1,000,000\n",
      "nums = sc.parallelize(xrange(1000000))\n",
      "\n",
      "# Compute the number of primes in the RDD\n",
      "print nums.filter(isprime).count()\n",
      "# len(filter(isprime, xrange(1000000)))"
     ],
     "language": "python",
     "metadata": {},
     "outputs": []
    },
    {
     "cell_type": "markdown",
     "metadata": {},
     "source": [
      "## Word Frequency\n",
      "\n",
      "Compute the frequency of every word in *War and Peace* by Leo Tolstoy."
     ]
    },
    {
     "cell_type": "code",
     "collapsed": false,
     "input": [
      "from operator import add\n",
      "\n",
      "def tokenize(text):\n",
      "    return text.split()\n",
      "\n",
      "text = sc.textFile(\"fixtures/tolstoy.txt\") # Create RDD\n",
      "\n",
      "# Transform\n",
      "wc   = text.flatMap(tokenize)\n",
      "wc   = wc.map(lambda x: (x,1)).reduceByKey(add)\n",
      "\n",
      "print wc.take(10)\n",
      "\n",
      "# wc.saveAsTextFile(\"results/counts\")       # Action"
     ],
     "language": "python",
     "metadata": {},
     "outputs": []
    },
    {
     "cell_type": "code",
     "collapsed": false,
     "input": [],
     "language": "python",
     "metadata": {},
     "outputs": []
    }
   ],
   "metadata": {}
  }
 ]
}